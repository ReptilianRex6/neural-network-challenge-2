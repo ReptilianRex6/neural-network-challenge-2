{
  "cells": [
    {
      "cell_type": "markdown",
      "metadata": {
        "id": "alIIEHibGc3M"
      },
      "source": [
        "## Part 1: Preprocessing"
      ]
    },
    {
      "cell_type": "code",
      "execution_count": 271,
      "metadata": {
        "colab": {
          "base_uri": "https://localhost:8080/",
          "height": 325
        },
        "id": "6eDUJ4NtGc3P",
        "outputId": "2480098c-135c-4cbf-9552-018494ee8ff5"
      },
      "outputs": [
        {
          "data": {
            "text/html": [
              "<div>\n",
              "<style scoped>\n",
              "    .dataframe tbody tr th:only-of-type {\n",
              "        vertical-align: middle;\n",
              "    }\n",
              "\n",
              "    .dataframe tbody tr th {\n",
              "        vertical-align: top;\n",
              "    }\n",
              "\n",
              "    .dataframe thead th {\n",
              "        text-align: right;\n",
              "    }\n",
              "</style>\n",
              "<table border=\"1\" class=\"dataframe\">\n",
              "  <thead>\n",
              "    <tr style=\"text-align: right;\">\n",
              "      <th></th>\n",
              "      <th>Age</th>\n",
              "      <th>Attrition</th>\n",
              "      <th>BusinessTravel</th>\n",
              "      <th>Department</th>\n",
              "      <th>DistanceFromHome</th>\n",
              "      <th>Education</th>\n",
              "      <th>EducationField</th>\n",
              "      <th>EnvironmentSatisfaction</th>\n",
              "      <th>HourlyRate</th>\n",
              "      <th>JobInvolvement</th>\n",
              "      <th>...</th>\n",
              "      <th>PerformanceRating</th>\n",
              "      <th>RelationshipSatisfaction</th>\n",
              "      <th>StockOptionLevel</th>\n",
              "      <th>TotalWorkingYears</th>\n",
              "      <th>TrainingTimesLastYear</th>\n",
              "      <th>WorkLifeBalance</th>\n",
              "      <th>YearsAtCompany</th>\n",
              "      <th>YearsInCurrentRole</th>\n",
              "      <th>YearsSinceLastPromotion</th>\n",
              "      <th>YearsWithCurrManager</th>\n",
              "    </tr>\n",
              "  </thead>\n",
              "  <tbody>\n",
              "    <tr>\n",
              "      <th>0</th>\n",
              "      <td>41</td>\n",
              "      <td>Yes</td>\n",
              "      <td>Travel_Rarely</td>\n",
              "      <td>Sales</td>\n",
              "      <td>1</td>\n",
              "      <td>2</td>\n",
              "      <td>Life Sciences</td>\n",
              "      <td>2</td>\n",
              "      <td>94</td>\n",
              "      <td>3</td>\n",
              "      <td>...</td>\n",
              "      <td>3</td>\n",
              "      <td>1</td>\n",
              "      <td>0</td>\n",
              "      <td>8</td>\n",
              "      <td>0</td>\n",
              "      <td>1</td>\n",
              "      <td>6</td>\n",
              "      <td>4</td>\n",
              "      <td>0</td>\n",
              "      <td>5</td>\n",
              "    </tr>\n",
              "    <tr>\n",
              "      <th>1</th>\n",
              "      <td>49</td>\n",
              "      <td>No</td>\n",
              "      <td>Travel_Frequently</td>\n",
              "      <td>Research &amp; Development</td>\n",
              "      <td>8</td>\n",
              "      <td>1</td>\n",
              "      <td>Life Sciences</td>\n",
              "      <td>3</td>\n",
              "      <td>61</td>\n",
              "      <td>2</td>\n",
              "      <td>...</td>\n",
              "      <td>4</td>\n",
              "      <td>4</td>\n",
              "      <td>1</td>\n",
              "      <td>10</td>\n",
              "      <td>3</td>\n",
              "      <td>3</td>\n",
              "      <td>10</td>\n",
              "      <td>7</td>\n",
              "      <td>1</td>\n",
              "      <td>7</td>\n",
              "    </tr>\n",
              "    <tr>\n",
              "      <th>2</th>\n",
              "      <td>37</td>\n",
              "      <td>Yes</td>\n",
              "      <td>Travel_Rarely</td>\n",
              "      <td>Research &amp; Development</td>\n",
              "      <td>2</td>\n",
              "      <td>2</td>\n",
              "      <td>Other</td>\n",
              "      <td>4</td>\n",
              "      <td>92</td>\n",
              "      <td>2</td>\n",
              "      <td>...</td>\n",
              "      <td>3</td>\n",
              "      <td>2</td>\n",
              "      <td>0</td>\n",
              "      <td>7</td>\n",
              "      <td>3</td>\n",
              "      <td>3</td>\n",
              "      <td>0</td>\n",
              "      <td>0</td>\n",
              "      <td>0</td>\n",
              "      <td>0</td>\n",
              "    </tr>\n",
              "    <tr>\n",
              "      <th>3</th>\n",
              "      <td>33</td>\n",
              "      <td>No</td>\n",
              "      <td>Travel_Frequently</td>\n",
              "      <td>Research &amp; Development</td>\n",
              "      <td>3</td>\n",
              "      <td>4</td>\n",
              "      <td>Life Sciences</td>\n",
              "      <td>4</td>\n",
              "      <td>56</td>\n",
              "      <td>3</td>\n",
              "      <td>...</td>\n",
              "      <td>3</td>\n",
              "      <td>3</td>\n",
              "      <td>0</td>\n",
              "      <td>8</td>\n",
              "      <td>3</td>\n",
              "      <td>3</td>\n",
              "      <td>8</td>\n",
              "      <td>7</td>\n",
              "      <td>3</td>\n",
              "      <td>0</td>\n",
              "    </tr>\n",
              "    <tr>\n",
              "      <th>4</th>\n",
              "      <td>27</td>\n",
              "      <td>No</td>\n",
              "      <td>Travel_Rarely</td>\n",
              "      <td>Research &amp; Development</td>\n",
              "      <td>2</td>\n",
              "      <td>1</td>\n",
              "      <td>Medical</td>\n",
              "      <td>1</td>\n",
              "      <td>40</td>\n",
              "      <td>3</td>\n",
              "      <td>...</td>\n",
              "      <td>3</td>\n",
              "      <td>4</td>\n",
              "      <td>1</td>\n",
              "      <td>6</td>\n",
              "      <td>3</td>\n",
              "      <td>3</td>\n",
              "      <td>2</td>\n",
              "      <td>2</td>\n",
              "      <td>2</td>\n",
              "      <td>2</td>\n",
              "    </tr>\n",
              "  </tbody>\n",
              "</table>\n",
              "<p>5 rows × 27 columns</p>\n",
              "</div>"
            ],
            "text/plain": [
              "   Age Attrition     BusinessTravel              Department  DistanceFromHome  \\\n",
              "0   41       Yes      Travel_Rarely                   Sales                 1   \n",
              "1   49        No  Travel_Frequently  Research & Development                 8   \n",
              "2   37       Yes      Travel_Rarely  Research & Development                 2   \n",
              "3   33        No  Travel_Frequently  Research & Development                 3   \n",
              "4   27        No      Travel_Rarely  Research & Development                 2   \n",
              "\n",
              "   Education EducationField  EnvironmentSatisfaction  HourlyRate  \\\n",
              "0          2  Life Sciences                        2          94   \n",
              "1          1  Life Sciences                        3          61   \n",
              "2          2          Other                        4          92   \n",
              "3          4  Life Sciences                        4          56   \n",
              "4          1        Medical                        1          40   \n",
              "\n",
              "   JobInvolvement  ...  PerformanceRating RelationshipSatisfaction  \\\n",
              "0               3  ...                  3                        1   \n",
              "1               2  ...                  4                        4   \n",
              "2               2  ...                  3                        2   \n",
              "3               3  ...                  3                        3   \n",
              "4               3  ...                  3                        4   \n",
              "\n",
              "   StockOptionLevel TotalWorkingYears  TrainingTimesLastYear WorkLifeBalance  \\\n",
              "0                 0                 8                      0               1   \n",
              "1                 1                10                      3               3   \n",
              "2                 0                 7                      3               3   \n",
              "3                 0                 8                      3               3   \n",
              "4                 1                 6                      3               3   \n",
              "\n",
              "   YearsAtCompany  YearsInCurrentRole  YearsSinceLastPromotion  \\\n",
              "0               6                   4                        0   \n",
              "1              10                   7                        1   \n",
              "2               0                   0                        0   \n",
              "3               8                   7                        3   \n",
              "4               2                   2                        2   \n",
              "\n",
              "   YearsWithCurrManager  \n",
              "0                     5  \n",
              "1                     7  \n",
              "2                     0  \n",
              "3                     0  \n",
              "4                     2  \n",
              "\n",
              "[5 rows x 27 columns]"
            ]
          },
          "execution_count": 271,
          "metadata": {},
          "output_type": "execute_result"
        }
      ],
      "source": [
        "# Import our dependencies\n",
        "from sklearn.model_selection import train_test_split\n",
        "from sklearn.preprocessing import StandardScaler\n",
        "import pandas as pd\n",
        "import numpy as np\n",
        "from keras.models import Model\n",
        "from keras import layers\n",
        "from sklearn.preprocessing import OneHotEncoder\n",
        "\n",
        "\n",
        "#  Import and read the attrition data\n",
        "attrition_df = pd.read_csv('https://static.bc-edx.com/ai/ail-v-1-0/m19/lms/datasets/attrition.csv')\n",
        "attrition_df.head()"
      ]
    },
    {
      "cell_type": "code",
      "execution_count": 272,
      "metadata": {
        "colab": {
          "base_uri": "https://localhost:8080/"
        },
        "id": "g22aQSY4Gc3Q",
        "outputId": "1f5c13c1-b981-4e40-a7ed-dd3fe6f1b81e"
      },
      "outputs": [
        {
          "data": {
            "text/plain": [
              "Age                         43\n",
              "Attrition                    2\n",
              "BusinessTravel               3\n",
              "Department                   3\n",
              "DistanceFromHome            29\n",
              "Education                    5\n",
              "EducationField               6\n",
              "EnvironmentSatisfaction      4\n",
              "HourlyRate                  71\n",
              "JobInvolvement               4\n",
              "JobLevel                     5\n",
              "JobRole                      9\n",
              "JobSatisfaction              4\n",
              "MaritalStatus                3\n",
              "NumCompaniesWorked          10\n",
              "OverTime                     2\n",
              "PercentSalaryHike           15\n",
              "PerformanceRating            2\n",
              "RelationshipSatisfaction     4\n",
              "StockOptionLevel             4\n",
              "TotalWorkingYears           40\n",
              "TrainingTimesLastYear        7\n",
              "WorkLifeBalance              4\n",
              "YearsAtCompany              37\n",
              "YearsInCurrentRole          19\n",
              "YearsSinceLastPromotion     16\n",
              "YearsWithCurrManager        18\n",
              "dtype: int64"
            ]
          },
          "execution_count": 272,
          "metadata": {},
          "output_type": "execute_result"
        }
      ],
      "source": [
        "# Determine the number of unique values in each column.\n",
        "attrition_df.nunique()"
      ]
    },
    {
      "cell_type": "code",
      "execution_count": 273,
      "metadata": {},
      "outputs": [],
      "source": [
        "# attrition_copy = attrition_df.copy()\n",
        "\n",
        "# attrition_copy['Attrition'] = attrition_copy['Attrition'].map({'No': 0, 'Yes': 1})\n",
        "\n",
        "\n",
        "# correlation = attrition_copy.corr()\n",
        "# correlation['Attrition'].sort_values(ascending=False)"
      ]
    },
    {
      "cell_type": "code",
      "execution_count": 274,
      "metadata": {
        "id": "50vMgBEnJbfM"
      },
      "outputs": [],
      "source": [
        "# Create y_df with the Attrition and Department columns\n",
        "y_df = attrition_df[['Attrition', 'Department']]\n"
      ]
    },
    {
      "cell_type": "code",
      "execution_count": 275,
      "metadata": {
        "colab": {
          "base_uri": "https://localhost:8080/"
        },
        "id": "Virka0zLGc3R",
        "outputId": "dd5aee3a-9458-4ba6-e857-1b234de40915"
      },
      "outputs": [
        {
          "data": {
            "text/plain": [
              "Age                         int64\n",
              "BusinessTravel             object\n",
              "HourlyRate                  int64\n",
              "DistanceFromHome            int64\n",
              "Education                   int64\n",
              "MaritalStatus              object\n",
              "JobSatisfaction             int64\n",
              "EnvironmentSatisfaction     int64\n",
              "YearsSinceLastPromotion     int64\n",
              "dtype: object"
            ]
          },
          "execution_count": 275,
          "metadata": {},
          "output_type": "execute_result"
        }
      ],
      "source": [
        "# Create a list of at least 10 column names to use as X data\n",
        "selected_columns = ['Age', 'BusinessTravel', 'HourlyRate', 'DistanceFromHome', 'Education',\n",
        "                     'MaritalStatus', 'JobSatisfaction', 'EnvironmentSatisfaction', 'YearsSinceLastPromotion']\n",
        "                    \n",
        "\n",
        "\n",
        "# Create X_df using your selected columns\n",
        "X_df = attrition_df[selected_columns]\n",
        "\n",
        "# Show the data types for X_df\n",
        "X_df.dtypes\n"
      ]
    },
    {
      "cell_type": "code",
      "execution_count": 276,
      "metadata": {
        "id": "KaJfdOGUMHMR"
      },
      "outputs": [],
      "source": [
        "# Split the data into training and testing sets\n",
        "from sklearn.model_selection import train_test_split\n",
        "\n",
        "X_train, X_test, y_train, y_test = train_test_split(X_df, y_df, random_state=78)\n"
      ]
    },
    {
      "cell_type": "code",
      "execution_count": 277,
      "metadata": {
        "colab": {
          "base_uri": "https://localhost:8080/"
        },
        "id": "NYubUJqiLCSp",
        "outputId": "53f31721-571c-4c94-d13e-25a715749593"
      },
      "outputs": [],
      "source": [
        "# Convert your X data to numeric data types however you see fit\n",
        "# Add new code cells as necessary\n",
        "X_train = pd.get_dummies(X_train)\n",
        "X_test = pd.get_dummies(X_test)"
      ]
    },
    {
      "cell_type": "code",
      "execution_count": 278,
      "metadata": {
        "id": "EWA-aIA5Gc3T"
      },
      "outputs": [],
      "source": [
        "# Create a StandardScaler\n",
        "scaler = StandardScaler()\n",
        "\n",
        "# Fit the StandardScaler to the training data\n",
        "scaler.fit(X_train)\n",
        "\n",
        "# Scale the training and testing data\n",
        "X_train_scaled = scaler.transform(X_train)\n",
        "X_test_scaled = scaler.transform(X_test)"
      ]
    },
    {
      "cell_type": "code",
      "execution_count": 279,
      "metadata": {
        "colab": {
          "base_uri": "https://localhost:8080/"
        },
        "id": "-z0Mky8vQSz4",
        "outputId": "debefc85-c20b-48f5-f4d9-91eadd65d36a"
      },
      "outputs": [
        {
          "name": "stderr",
          "output_type": "stream",
          "text": [
            "c:\\Users\\deers\\anaconda3\\envs\\dev\\Lib\\site-packages\\sklearn\\preprocessing\\_encoders.py:868: FutureWarning: `sparse` was renamed to `sparse_output` in version 1.2 and will be removed in 1.4. `sparse_output` is ignored unless you leave `sparse` to its default value.\n",
            "  warnings.warn(\n"
          ]
        },
        {
          "data": {
            "text/plain": [
              "array([[0., 0., 1.],\n",
              "       [0., 1., 0.],\n",
              "       [0., 0., 1.],\n",
              "       ...,\n",
              "       [0., 1., 0.],\n",
              "       [0., 0., 1.],\n",
              "       [0., 1., 0.]])"
            ]
          },
          "execution_count": 279,
          "metadata": {},
          "output_type": "execute_result"
        }
      ],
      "source": [
        "# Create a OneHotEncoder for the Department column\n",
        "enc = OneHotEncoder(sparse=False)\n",
        "\n",
        "# Fit the encoder to the training data\n",
        "enc.fit(y_train[['Department']])\n",
        "\n",
        "# Create two new variables by applying the encoder\n",
        "# to the training and testing data\n",
        "y_train_encoded = enc.transform(y_train[['Department']])\n",
        "y_test_encoded = enc.transform(y_test[['Department']])\n",
        "y_train_encoded"
      ]
    },
    {
      "cell_type": "code",
      "execution_count": 280,
      "metadata": {
        "colab": {
          "base_uri": "https://localhost:8080/"
        },
        "id": "-G4DSpvFRrk4",
        "outputId": "9842e948-8a55-4b80-8fac-f96714e85589"
      },
      "outputs": [
        {
          "name": "stderr",
          "output_type": "stream",
          "text": [
            "c:\\Users\\deers\\anaconda3\\envs\\dev\\Lib\\site-packages\\sklearn\\preprocessing\\_encoders.py:868: FutureWarning: `sparse` was renamed to `sparse_output` in version 1.2 and will be removed in 1.4. `sparse_output` is ignored unless you leave `sparse` to its default value.\n",
            "  warnings.warn(\n"
          ]
        },
        {
          "data": {
            "text/plain": [
              "array([[0., 1.],\n",
              "       [1., 0.],\n",
              "       [0., 1.],\n",
              "       ...,\n",
              "       [1., 0.],\n",
              "       [1., 0.],\n",
              "       [0., 1.]])"
            ]
          },
          "execution_count": 280,
          "metadata": {},
          "output_type": "execute_result"
        }
      ],
      "source": [
        "# Create a OneHotEncoder for the Attrition column\n",
        "enc = OneHotEncoder(sparse=False)\n",
        "\n",
        "# Fit the encoder to the training data\n",
        "enc.fit(y_train[['Attrition']])\n",
        "\n",
        "# Create two new variables by applying the encoder\n",
        "# to the training and testing data\n",
        "y_train_encoded2 = enc.transform(y_train[['Attrition']])\n",
        "y_test_encoded2 = enc.transform(y_test[['Attrition']])\n",
        "y_train_encoded2\n"
      ]
    },
    {
      "cell_type": "markdown",
      "metadata": {
        "id": "ykNmu_WWGc3T"
      },
      "source": [
        "## Create, Compile, and Train the Model"
      ]
    },
    {
      "cell_type": "code",
      "execution_count": 281,
      "metadata": {},
      "outputs": [
        {
          "data": {
            "text/plain": [
              "13"
            ]
          },
          "execution_count": 281,
          "metadata": {},
          "output_type": "execute_result"
        }
      ],
      "source": [
        "# Find the number of columns in the X training data\n",
        "X_train.shape[1]"
      ]
    },
    {
      "cell_type": "code",
      "execution_count": 282,
      "metadata": {
        "id": "WUptZqmSGc3T"
      },
      "outputs": [],
      "source": [
        "# Create the input layer\n",
        "input_layer = layers.Input(shape=(X_train.shape[1],))\n",
        "\n",
        "# Create at least two shared layers\n",
        "shared_layer1 = layers.Dense(units=8, activation='relu', name='shared_layer1')(input_layer)\n",
        "shared_layer2 = layers.Dense(units=8, activation='relu', name = 'shared_layer2')(shared_layer1)"
      ]
    },
    {
      "cell_type": "code",
      "execution_count": 283,
      "metadata": {
        "id": "JukjTm2yTEqd"
      },
      "outputs": [],
      "source": [
        "# Create a branch for Department\n",
        "# with a hidden layer and an output layer\n",
        "\n",
        "# Create the hidden layer\n",
        "department_branch = layers.Dense(units=8, activation='relu', name='department_hidden')(shared_layer2)\n",
        "\n",
        "\n",
        "# Create the output layer\n",
        "department_output = layers.Dense(units=3, activation='sigmoid', name='department_output')(department_branch)"
      ]
    },
    {
      "cell_type": "code",
      "execution_count": 284,
      "metadata": {
        "id": "9OqhUiOJUBkR"
      },
      "outputs": [],
      "source": [
        "# Create a branch for Attrition\n",
        "# with a hidden layer and an output layer\n",
        "# Create the hidden layer\n",
        "attrition_hidden = layers.Dense(units=8, activation='relu', name='attrition_hidden')(shared_layer2)\n",
        "\n",
        "# Create the output layer\n",
        "attrition_output = layers.Dense(units=2, activation='sigmoid', name='attrition_output')(attrition_hidden)"
      ]
    },
    {
      "cell_type": "code",
      "execution_count": 285,
      "metadata": {
        "colab": {
          "base_uri": "https://localhost:8080/"
        },
        "id": "twmuejdxGc3T",
        "outputId": "25096308-b68b-42e4-e4ea-ae82e97c435a"
      },
      "outputs": [
        {
          "data": {
            "text/html": [
              "<pre style=\"white-space:pre;overflow-x:auto;line-height:normal;font-family:Menlo,'DejaVu Sans Mono',consolas,'Courier New',monospace\"><span style=\"font-weight: bold\">Model: \"functional_41\"</span>\n",
              "</pre>\n"
            ],
            "text/plain": [
              "\u001b[1mModel: \"functional_41\"\u001b[0m\n"
            ]
          },
          "metadata": {},
          "output_type": "display_data"
        },
        {
          "data": {
            "text/html": [
              "<pre style=\"white-space:pre;overflow-x:auto;line-height:normal;font-family:Menlo,'DejaVu Sans Mono',consolas,'Courier New',monospace\">┏━━━━━━━━━━━━━━━━━━━━━┳━━━━━━━━━━━━━━━━━━━┳━━━━━━━━━━━━┳━━━━━━━━━━━━━━━━━━━┓\n",
              "┃<span style=\"font-weight: bold\"> Layer (type)        </span>┃<span style=\"font-weight: bold\"> Output Shape      </span>┃<span style=\"font-weight: bold\">    Param # </span>┃<span style=\"font-weight: bold\"> Connected to      </span>┃\n",
              "┡━━━━━━━━━━━━━━━━━━━━━╇━━━━━━━━━━━━━━━━━━━╇━━━━━━━━━━━━╇━━━━━━━━━━━━━━━━━━━┩\n",
              "│ input_layer_17      │ (<span style=\"color: #00d7ff; text-decoration-color: #00d7ff\">None</span>, <span style=\"color: #00af00; text-decoration-color: #00af00\">13</span>)        │          <span style=\"color: #00af00; text-decoration-color: #00af00\">0</span> │ -                 │\n",
              "│ (<span style=\"color: #0087ff; text-decoration-color: #0087ff\">InputLayer</span>)        │                   │            │                   │\n",
              "├─────────────────────┼───────────────────┼────────────┼───────────────────┤\n",
              "│ shared_layer1       │ (<span style=\"color: #00d7ff; text-decoration-color: #00d7ff\">None</span>, <span style=\"color: #00af00; text-decoration-color: #00af00\">8</span>)         │        <span style=\"color: #00af00; text-decoration-color: #00af00\">112</span> │ input_layer_17[<span style=\"color: #00af00; text-decoration-color: #00af00\">0</span>… │\n",
              "│ (<span style=\"color: #0087ff; text-decoration-color: #0087ff\">Dense</span>)             │                   │            │                   │\n",
              "├─────────────────────┼───────────────────┼────────────┼───────────────────┤\n",
              "│ shared_layer2       │ (<span style=\"color: #00d7ff; text-decoration-color: #00d7ff\">None</span>, <span style=\"color: #00af00; text-decoration-color: #00af00\">8</span>)         │         <span style=\"color: #00af00; text-decoration-color: #00af00\">72</span> │ shared_layer1[<span style=\"color: #00af00; text-decoration-color: #00af00\">0</span>]… │\n",
              "│ (<span style=\"color: #0087ff; text-decoration-color: #0087ff\">Dense</span>)             │                   │            │                   │\n",
              "├─────────────────────┼───────────────────┼────────────┼───────────────────┤\n",
              "│ department_hidden   │ (<span style=\"color: #00d7ff; text-decoration-color: #00d7ff\">None</span>, <span style=\"color: #00af00; text-decoration-color: #00af00\">8</span>)         │         <span style=\"color: #00af00; text-decoration-color: #00af00\">72</span> │ shared_layer2[<span style=\"color: #00af00; text-decoration-color: #00af00\">0</span>]… │\n",
              "│ (<span style=\"color: #0087ff; text-decoration-color: #0087ff\">Dense</span>)             │                   │            │                   │\n",
              "├─────────────────────┼───────────────────┼────────────┼───────────────────┤\n",
              "│ attrition_hidden    │ (<span style=\"color: #00d7ff; text-decoration-color: #00d7ff\">None</span>, <span style=\"color: #00af00; text-decoration-color: #00af00\">8</span>)         │         <span style=\"color: #00af00; text-decoration-color: #00af00\">72</span> │ shared_layer2[<span style=\"color: #00af00; text-decoration-color: #00af00\">0</span>]… │\n",
              "│ (<span style=\"color: #0087ff; text-decoration-color: #0087ff\">Dense</span>)             │                   │            │                   │\n",
              "├─────────────────────┼───────────────────┼────────────┼───────────────────┤\n",
              "│ department_output   │ (<span style=\"color: #00d7ff; text-decoration-color: #00d7ff\">None</span>, <span style=\"color: #00af00; text-decoration-color: #00af00\">3</span>)         │         <span style=\"color: #00af00; text-decoration-color: #00af00\">27</span> │ department_hidde… │\n",
              "│ (<span style=\"color: #0087ff; text-decoration-color: #0087ff\">Dense</span>)             │                   │            │                   │\n",
              "├─────────────────────┼───────────────────┼────────────┼───────────────────┤\n",
              "│ attrition_output    │ (<span style=\"color: #00d7ff; text-decoration-color: #00d7ff\">None</span>, <span style=\"color: #00af00; text-decoration-color: #00af00\">2</span>)         │         <span style=\"color: #00af00; text-decoration-color: #00af00\">18</span> │ attrition_hidden… │\n",
              "│ (<span style=\"color: #0087ff; text-decoration-color: #0087ff\">Dense</span>)             │                   │            │                   │\n",
              "└─────────────────────┴───────────────────┴────────────┴───────────────────┘\n",
              "</pre>\n"
            ],
            "text/plain": [
              "┏━━━━━━━━━━━━━━━━━━━━━┳━━━━━━━━━━━━━━━━━━━┳━━━━━━━━━━━━┳━━━━━━━━━━━━━━━━━━━┓\n",
              "┃\u001b[1m \u001b[0m\u001b[1mLayer (type)       \u001b[0m\u001b[1m \u001b[0m┃\u001b[1m \u001b[0m\u001b[1mOutput Shape     \u001b[0m\u001b[1m \u001b[0m┃\u001b[1m \u001b[0m\u001b[1m   Param #\u001b[0m\u001b[1m \u001b[0m┃\u001b[1m \u001b[0m\u001b[1mConnected to     \u001b[0m\u001b[1m \u001b[0m┃\n",
              "┡━━━━━━━━━━━━━━━━━━━━━╇━━━━━━━━━━━━━━━━━━━╇━━━━━━━━━━━━╇━━━━━━━━━━━━━━━━━━━┩\n",
              "│ input_layer_17      │ (\u001b[38;5;45mNone\u001b[0m, \u001b[38;5;34m13\u001b[0m)        │          \u001b[38;5;34m0\u001b[0m │ -                 │\n",
              "│ (\u001b[38;5;33mInputLayer\u001b[0m)        │                   │            │                   │\n",
              "├─────────────────────┼───────────────────┼────────────┼───────────────────┤\n",
              "│ shared_layer1       │ (\u001b[38;5;45mNone\u001b[0m, \u001b[38;5;34m8\u001b[0m)         │        \u001b[38;5;34m112\u001b[0m │ input_layer_17[\u001b[38;5;34m0\u001b[0m… │\n",
              "│ (\u001b[38;5;33mDense\u001b[0m)             │                   │            │                   │\n",
              "├─────────────────────┼───────────────────┼────────────┼───────────────────┤\n",
              "│ shared_layer2       │ (\u001b[38;5;45mNone\u001b[0m, \u001b[38;5;34m8\u001b[0m)         │         \u001b[38;5;34m72\u001b[0m │ shared_layer1[\u001b[38;5;34m0\u001b[0m]… │\n",
              "│ (\u001b[38;5;33mDense\u001b[0m)             │                   │            │                   │\n",
              "├─────────────────────┼───────────────────┼────────────┼───────────────────┤\n",
              "│ department_hidden   │ (\u001b[38;5;45mNone\u001b[0m, \u001b[38;5;34m8\u001b[0m)         │         \u001b[38;5;34m72\u001b[0m │ shared_layer2[\u001b[38;5;34m0\u001b[0m]… │\n",
              "│ (\u001b[38;5;33mDense\u001b[0m)             │                   │            │                   │\n",
              "├─────────────────────┼───────────────────┼────────────┼───────────────────┤\n",
              "│ attrition_hidden    │ (\u001b[38;5;45mNone\u001b[0m, \u001b[38;5;34m8\u001b[0m)         │         \u001b[38;5;34m72\u001b[0m │ shared_layer2[\u001b[38;5;34m0\u001b[0m]… │\n",
              "│ (\u001b[38;5;33mDense\u001b[0m)             │                   │            │                   │\n",
              "├─────────────────────┼───────────────────┼────────────┼───────────────────┤\n",
              "│ department_output   │ (\u001b[38;5;45mNone\u001b[0m, \u001b[38;5;34m3\u001b[0m)         │         \u001b[38;5;34m27\u001b[0m │ department_hidde… │\n",
              "│ (\u001b[38;5;33mDense\u001b[0m)             │                   │            │                   │\n",
              "├─────────────────────┼───────────────────┼────────────┼───────────────────┤\n",
              "│ attrition_output    │ (\u001b[38;5;45mNone\u001b[0m, \u001b[38;5;34m2\u001b[0m)         │         \u001b[38;5;34m18\u001b[0m │ attrition_hidden… │\n",
              "│ (\u001b[38;5;33mDense\u001b[0m)             │                   │            │                   │\n",
              "└─────────────────────┴───────────────────┴────────────┴───────────────────┘\n"
            ]
          },
          "metadata": {},
          "output_type": "display_data"
        },
        {
          "data": {
            "text/html": [
              "<pre style=\"white-space:pre;overflow-x:auto;line-height:normal;font-family:Menlo,'DejaVu Sans Mono',consolas,'Courier New',monospace\"><span style=\"font-weight: bold\"> Total params: </span><span style=\"color: #00af00; text-decoration-color: #00af00\">373</span> (1.46 KB)\n",
              "</pre>\n"
            ],
            "text/plain": [
              "\u001b[1m Total params: \u001b[0m\u001b[38;5;34m373\u001b[0m (1.46 KB)\n"
            ]
          },
          "metadata": {},
          "output_type": "display_data"
        },
        {
          "data": {
            "text/html": [
              "<pre style=\"white-space:pre;overflow-x:auto;line-height:normal;font-family:Menlo,'DejaVu Sans Mono',consolas,'Courier New',monospace\"><span style=\"font-weight: bold\"> Trainable params: </span><span style=\"color: #00af00; text-decoration-color: #00af00\">373</span> (1.46 KB)\n",
              "</pre>\n"
            ],
            "text/plain": [
              "\u001b[1m Trainable params: \u001b[0m\u001b[38;5;34m373\u001b[0m (1.46 KB)\n"
            ]
          },
          "metadata": {},
          "output_type": "display_data"
        },
        {
          "data": {
            "text/html": [
              "<pre style=\"white-space:pre;overflow-x:auto;line-height:normal;font-family:Menlo,'DejaVu Sans Mono',consolas,'Courier New',monospace\"><span style=\"font-weight: bold\"> Non-trainable params: </span><span style=\"color: #00af00; text-decoration-color: #00af00\">0</span> (0.00 B)\n",
              "</pre>\n"
            ],
            "text/plain": [
              "\u001b[1m Non-trainable params: \u001b[0m\u001b[38;5;34m0\u001b[0m (0.00 B)\n"
            ]
          },
          "metadata": {},
          "output_type": "display_data"
        }
      ],
      "source": [
        "# Create the model\n",
        "model = Model(inputs=input_layer, outputs=[department_output, attrition_output])\n",
        "\n",
        "# Compile the model\n",
        "model.compile(optimizer='adam',\n",
        "              loss={'department_output': 'binary_crossentropy', 'attrition_output': 'binary_crossentropy'},\n",
        "              metrics={'department_output': 'accuracy', 'attrition_output': 'accuracy'})\n",
        "\n",
        "# Summarize the model\n",
        "model.summary()"
      ]
    },
    {
      "cell_type": "code",
      "execution_count": 286,
      "metadata": {
        "colab": {
          "base_uri": "https://localhost:8080/"
        },
        "id": "c8oGy0dpGc3U",
        "outputId": "cc667d43-28cf-42d4-d719-c2bc02888d30"
      },
      "outputs": [
        {
          "name": "stdout",
          "output_type": "stream",
          "text": [
            "Epoch 1/100\n"
          ]
        },
        {
          "name": "stdout",
          "output_type": "stream",
          "text": [
            "35/35 - 2s - 50ms/step - attrition_output_accuracy: 0.8230 - department_output_accuracy: 0.4419 - loss: 1.2770\n",
            "Epoch 2/100\n",
            "35/35 - 0s - 2ms/step - attrition_output_accuracy: 0.8276 - department_output_accuracy: 0.5544 - loss: 1.1804\n",
            "Epoch 3/100\n",
            "35/35 - 0s - 2ms/step - attrition_output_accuracy: 0.8276 - department_output_accuracy: 0.6180 - loss: 1.0944\n",
            "Epoch 4/100\n",
            "35/35 - 0s - 2ms/step - attrition_output_accuracy: 0.8276 - department_output_accuracy: 0.6543 - loss: 1.0277\n",
            "Epoch 5/100\n",
            "35/35 - 0s - 2ms/step - attrition_output_accuracy: 0.8276 - department_output_accuracy: 0.6642 - loss: 0.9810\n",
            "Epoch 6/100\n",
            "35/35 - 0s - 2ms/step - attrition_output_accuracy: 0.8276 - department_output_accuracy: 0.6661 - loss: 0.9506\n",
            "Epoch 7/100\n",
            "35/35 - 0s - 2ms/step - attrition_output_accuracy: 0.8276 - department_output_accuracy: 0.6661 - loss: 0.9323\n",
            "Epoch 8/100\n",
            "35/35 - 0s - 2ms/step - attrition_output_accuracy: 0.8276 - department_output_accuracy: 0.6661 - loss: 0.9229\n",
            "Epoch 9/100\n",
            "35/35 - 0s - 2ms/step - attrition_output_accuracy: 0.8276 - department_output_accuracy: 0.6661 - loss: 0.9158\n",
            "Epoch 10/100\n",
            "35/35 - 0s - 2ms/step - attrition_output_accuracy: 0.8276 - department_output_accuracy: 0.6661 - loss: 0.9112\n",
            "Epoch 11/100\n",
            "35/35 - 0s - 2ms/step - attrition_output_accuracy: 0.8276 - department_output_accuracy: 0.6661 - loss: 0.9085\n",
            "Epoch 12/100\n",
            "35/35 - 0s - 2ms/step - attrition_output_accuracy: 0.8276 - department_output_accuracy: 0.6670 - loss: 0.9045\n",
            "Epoch 13/100\n",
            "35/35 - 0s - 2ms/step - attrition_output_accuracy: 0.8276 - department_output_accuracy: 0.6661 - loss: 0.9019\n",
            "Epoch 14/100\n",
            "35/35 - 0s - 2ms/step - attrition_output_accuracy: 0.8276 - department_output_accuracy: 0.6661 - loss: 0.9000\n",
            "Epoch 15/100\n",
            "35/35 - 0s - 2ms/step - attrition_output_accuracy: 0.8276 - department_output_accuracy: 0.6661 - loss: 0.8978\n",
            "Epoch 16/100\n",
            "35/35 - 0s - 2ms/step - attrition_output_accuracy: 0.8276 - department_output_accuracy: 0.6652 - loss: 0.8960\n",
            "Epoch 17/100\n",
            "35/35 - 0s - 2ms/step - attrition_output_accuracy: 0.8276 - department_output_accuracy: 0.6661 - loss: 0.8942\n",
            "Epoch 18/100\n",
            "35/35 - 0s - 2ms/step - attrition_output_accuracy: 0.8276 - department_output_accuracy: 0.6642 - loss: 0.8932\n",
            "Epoch 19/100\n",
            "35/35 - 0s - 2ms/step - attrition_output_accuracy: 0.8276 - department_output_accuracy: 0.6642 - loss: 0.8917\n",
            "Epoch 20/100\n",
            "35/35 - 0s - 2ms/step - attrition_output_accuracy: 0.8276 - department_output_accuracy: 0.6652 - loss: 0.8910\n",
            "Epoch 21/100\n",
            "35/35 - 0s - 2ms/step - attrition_output_accuracy: 0.8276 - department_output_accuracy: 0.6652 - loss: 0.8888\n",
            "Epoch 22/100\n",
            "35/35 - 0s - 2ms/step - attrition_output_accuracy: 0.8276 - department_output_accuracy: 0.6642 - loss: 0.8872\n",
            "Epoch 23/100\n",
            "35/35 - 0s - 2ms/step - attrition_output_accuracy: 0.8276 - department_output_accuracy: 0.6652 - loss: 0.8857\n",
            "Epoch 24/100\n",
            "35/35 - 0s - 2ms/step - attrition_output_accuracy: 0.8276 - department_output_accuracy: 0.6652 - loss: 0.8844\n",
            "Epoch 25/100\n",
            "35/35 - 0s - 2ms/step - attrition_output_accuracy: 0.8276 - department_output_accuracy: 0.6661 - loss: 0.8834\n",
            "Epoch 26/100\n",
            "35/35 - 0s - 2ms/step - attrition_output_accuracy: 0.8276 - department_output_accuracy: 0.6642 - loss: 0.8820\n",
            "Epoch 27/100\n",
            "35/35 - 0s - 2ms/step - attrition_output_accuracy: 0.8276 - department_output_accuracy: 0.6661 - loss: 0.8806\n",
            "Epoch 28/100\n",
            "35/35 - 0s - 2ms/step - attrition_output_accuracy: 0.8276 - department_output_accuracy: 0.6652 - loss: 0.8799\n",
            "Epoch 29/100\n",
            "35/35 - 0s - 2ms/step - attrition_output_accuracy: 0.8276 - department_output_accuracy: 0.6661 - loss: 0.8790\n",
            "Epoch 30/100\n",
            "35/35 - 0s - 2ms/step - attrition_output_accuracy: 0.8276 - department_output_accuracy: 0.6661 - loss: 0.8775\n",
            "Epoch 31/100\n",
            "35/35 - 0s - 2ms/step - attrition_output_accuracy: 0.8276 - department_output_accuracy: 0.6633 - loss: 0.8775\n",
            "Epoch 32/100\n",
            "35/35 - 0s - 2ms/step - attrition_output_accuracy: 0.8276 - department_output_accuracy: 0.6652 - loss: 0.8757\n",
            "Epoch 33/100\n",
            "35/35 - 0s - 2ms/step - attrition_output_accuracy: 0.8276 - department_output_accuracy: 0.6652 - loss: 0.8753\n",
            "Epoch 34/100\n",
            "35/35 - 0s - 2ms/step - attrition_output_accuracy: 0.8276 - department_output_accuracy: 0.6679 - loss: 0.8739\n",
            "Epoch 35/100\n",
            "35/35 - 0s - 2ms/step - attrition_output_accuracy: 0.8276 - department_output_accuracy: 0.6633 - loss: 0.8733\n",
            "Epoch 36/100\n",
            "35/35 - 0s - 2ms/step - attrition_output_accuracy: 0.8276 - department_output_accuracy: 0.6642 - loss: 0.8725\n",
            "Epoch 37/100\n",
            "35/35 - 0s - 2ms/step - attrition_output_accuracy: 0.8276 - department_output_accuracy: 0.6652 - loss: 0.8722\n",
            "Epoch 38/100\n",
            "35/35 - 0s - 2ms/step - attrition_output_accuracy: 0.8276 - department_output_accuracy: 0.6670 - loss: 0.8711\n",
            "Epoch 39/100\n",
            "35/35 - 0s - 2ms/step - attrition_output_accuracy: 0.8276 - department_output_accuracy: 0.6661 - loss: 0.8710\n",
            "Epoch 40/100\n",
            "35/35 - 0s - 2ms/step - attrition_output_accuracy: 0.8276 - department_output_accuracy: 0.6652 - loss: 0.8697\n",
            "Epoch 41/100\n",
            "35/35 - 0s - 2ms/step - attrition_output_accuracy: 0.8276 - department_output_accuracy: 0.6661 - loss: 0.8690\n",
            "Epoch 42/100\n",
            "35/35 - 0s - 2ms/step - attrition_output_accuracy: 0.8276 - department_output_accuracy: 0.6679 - loss: 0.8689\n",
            "Epoch 43/100\n",
            "35/35 - 0s - 2ms/step - attrition_output_accuracy: 0.8276 - department_output_accuracy: 0.6661 - loss: 0.8682\n",
            "Epoch 44/100\n",
            "35/35 - 0s - 2ms/step - attrition_output_accuracy: 0.8276 - department_output_accuracy: 0.6661 - loss: 0.8674\n",
            "Epoch 45/100\n",
            "35/35 - 0s - 2ms/step - attrition_output_accuracy: 0.8276 - department_output_accuracy: 0.6670 - loss: 0.8665\n",
            "Epoch 46/100\n",
            "35/35 - 0s - 2ms/step - attrition_output_accuracy: 0.8276 - department_output_accuracy: 0.6670 - loss: 0.8662\n",
            "Epoch 47/100\n",
            "35/35 - 0s - 2ms/step - attrition_output_accuracy: 0.8276 - department_output_accuracy: 0.6661 - loss: 0.8651\n",
            "Epoch 48/100\n",
            "35/35 - 0s - 2ms/step - attrition_output_accuracy: 0.8276 - department_output_accuracy: 0.6661 - loss: 0.8648\n",
            "Epoch 49/100\n",
            "35/35 - 0s - 2ms/step - attrition_output_accuracy: 0.8276 - department_output_accuracy: 0.6679 - loss: 0.8645\n",
            "Epoch 50/100\n",
            "35/35 - 0s - 2ms/step - attrition_output_accuracy: 0.8276 - department_output_accuracy: 0.6670 - loss: 0.8637\n",
            "Epoch 51/100\n",
            "35/35 - 0s - 2ms/step - attrition_output_accuracy: 0.8276 - department_output_accuracy: 0.6688 - loss: 0.8633\n",
            "Epoch 52/100\n",
            "35/35 - 0s - 2ms/step - attrition_output_accuracy: 0.8276 - department_output_accuracy: 0.6652 - loss: 0.8628\n",
            "Epoch 53/100\n",
            "35/35 - 0s - 2ms/step - attrition_output_accuracy: 0.8276 - department_output_accuracy: 0.6661 - loss: 0.8622\n",
            "Epoch 54/100\n",
            "35/35 - 0s - 2ms/step - attrition_output_accuracy: 0.8276 - department_output_accuracy: 0.6688 - loss: 0.8615\n",
            "Epoch 55/100\n",
            "35/35 - 0s - 2ms/step - attrition_output_accuracy: 0.8276 - department_output_accuracy: 0.6670 - loss: 0.8612\n",
            "Epoch 56/100\n",
            "35/35 - 0s - 2ms/step - attrition_output_accuracy: 0.8276 - department_output_accuracy: 0.6679 - loss: 0.8606\n",
            "Epoch 57/100\n",
            "35/35 - 0s - 2ms/step - attrition_output_accuracy: 0.8276 - department_output_accuracy: 0.6697 - loss: 0.8598\n",
            "Epoch 58/100\n",
            "35/35 - 0s - 2ms/step - attrition_output_accuracy: 0.8276 - department_output_accuracy: 0.6679 - loss: 0.8596\n",
            "Epoch 59/100\n",
            "35/35 - 0s - 2ms/step - attrition_output_accuracy: 0.8276 - department_output_accuracy: 0.6688 - loss: 0.8588\n",
            "Epoch 60/100\n",
            "35/35 - 0s - 2ms/step - attrition_output_accuracy: 0.8276 - department_output_accuracy: 0.6688 - loss: 0.8586\n",
            "Epoch 61/100\n",
            "35/35 - 0s - 2ms/step - attrition_output_accuracy: 0.8276 - department_output_accuracy: 0.6688 - loss: 0.8577\n",
            "Epoch 62/100\n",
            "35/35 - 0s - 2ms/step - attrition_output_accuracy: 0.8276 - department_output_accuracy: 0.6706 - loss: 0.8576\n",
            "Epoch 63/100\n",
            "35/35 - 0s - 2ms/step - attrition_output_accuracy: 0.8276 - department_output_accuracy: 0.6679 - loss: 0.8577\n",
            "Epoch 64/100\n",
            "35/35 - 0s - 2ms/step - attrition_output_accuracy: 0.8276 - department_output_accuracy: 0.6670 - loss: 0.8572\n",
            "Epoch 65/100\n",
            "35/35 - 0s - 2ms/step - attrition_output_accuracy: 0.8276 - department_output_accuracy: 0.6670 - loss: 0.8571\n",
            "Epoch 66/100\n",
            "35/35 - 0s - 2ms/step - attrition_output_accuracy: 0.8276 - department_output_accuracy: 0.6688 - loss: 0.8574\n",
            "Epoch 67/100\n",
            "35/35 - 0s - 2ms/step - attrition_output_accuracy: 0.8276 - department_output_accuracy: 0.6688 - loss: 0.8561\n",
            "Epoch 68/100\n",
            "35/35 - 0s - 2ms/step - attrition_output_accuracy: 0.8276 - department_output_accuracy: 0.6697 - loss: 0.8552\n",
            "Epoch 69/100\n",
            "35/35 - 0s - 2ms/step - attrition_output_accuracy: 0.8276 - department_output_accuracy: 0.6688 - loss: 0.8551\n",
            "Epoch 70/100\n",
            "35/35 - 0s - 2ms/step - attrition_output_accuracy: 0.8276 - department_output_accuracy: 0.6697 - loss: 0.8551\n",
            "Epoch 71/100\n",
            "35/35 - 0s - 2ms/step - attrition_output_accuracy: 0.8276 - department_output_accuracy: 0.6688 - loss: 0.8554\n",
            "Epoch 72/100\n",
            "35/35 - 0s - 2ms/step - attrition_output_accuracy: 0.8276 - department_output_accuracy: 0.6661 - loss: 0.8545\n",
            "Epoch 73/100\n",
            "35/35 - 0s - 2ms/step - attrition_output_accuracy: 0.8276 - department_output_accuracy: 0.6688 - loss: 0.8533\n",
            "Epoch 74/100\n",
            "35/35 - 0s - 2ms/step - attrition_output_accuracy: 0.8276 - department_output_accuracy: 0.6715 - loss: 0.8532\n",
            "Epoch 75/100\n",
            "35/35 - 0s - 2ms/step - attrition_output_accuracy: 0.8276 - department_output_accuracy: 0.6706 - loss: 0.8528\n",
            "Epoch 76/100\n",
            "35/35 - 0s - 2ms/step - attrition_output_accuracy: 0.8276 - department_output_accuracy: 0.6679 - loss: 0.8524\n",
            "Epoch 77/100\n",
            "35/35 - 0s - 2ms/step - attrition_output_accuracy: 0.8276 - department_output_accuracy: 0.6688 - loss: 0.8520\n",
            "Epoch 78/100\n",
            "35/35 - 0s - 2ms/step - attrition_output_accuracy: 0.8276 - department_output_accuracy: 0.6679 - loss: 0.8515\n",
            "Epoch 79/100\n",
            "35/35 - 0s - 2ms/step - attrition_output_accuracy: 0.8276 - department_output_accuracy: 0.6715 - loss: 0.8519\n",
            "Epoch 80/100\n",
            "35/35 - 0s - 2ms/step - attrition_output_accuracy: 0.8276 - department_output_accuracy: 0.6688 - loss: 0.8509\n",
            "Epoch 81/100\n",
            "35/35 - 0s - 2ms/step - attrition_output_accuracy: 0.8276 - department_output_accuracy: 0.6706 - loss: 0.8502\n",
            "Epoch 82/100\n",
            "35/35 - 0s - 2ms/step - attrition_output_accuracy: 0.8276 - department_output_accuracy: 0.6697 - loss: 0.8501\n",
            "Epoch 83/100\n",
            "35/35 - 0s - 2ms/step - attrition_output_accuracy: 0.8276 - department_output_accuracy: 0.6715 - loss: 0.8500\n",
            "Epoch 84/100\n",
            "35/35 - 0s - 2ms/step - attrition_output_accuracy: 0.8276 - department_output_accuracy: 0.6715 - loss: 0.8497\n",
            "Epoch 85/100\n",
            "35/35 - 0s - 2ms/step - attrition_output_accuracy: 0.8276 - department_output_accuracy: 0.6715 - loss: 0.8491\n",
            "Epoch 86/100\n",
            "35/35 - 0s - 2ms/step - attrition_output_accuracy: 0.8276 - department_output_accuracy: 0.6688 - loss: 0.8492\n",
            "Epoch 87/100\n",
            "35/35 - 0s - 2ms/step - attrition_output_accuracy: 0.8276 - department_output_accuracy: 0.6706 - loss: 0.8486\n",
            "Epoch 88/100\n",
            "35/35 - 0s - 2ms/step - attrition_output_accuracy: 0.8276 - department_output_accuracy: 0.6706 - loss: 0.8492\n",
            "Epoch 89/100\n",
            "35/35 - 0s - 2ms/step - attrition_output_accuracy: 0.8276 - department_output_accuracy: 0.6688 - loss: 0.8479\n",
            "Epoch 90/100\n",
            "35/35 - 0s - 2ms/step - attrition_output_accuracy: 0.8276 - department_output_accuracy: 0.6706 - loss: 0.8479\n",
            "Epoch 91/100\n",
            "35/35 - 0s - 2ms/step - attrition_output_accuracy: 0.8276 - department_output_accuracy: 0.6706 - loss: 0.8479\n",
            "Epoch 92/100\n",
            "35/35 - 0s - 2ms/step - attrition_output_accuracy: 0.8276 - department_output_accuracy: 0.6697 - loss: 0.8476\n",
            "Epoch 93/100\n",
            "35/35 - 0s - 2ms/step - attrition_output_accuracy: 0.8276 - department_output_accuracy: 0.6715 - loss: 0.8475\n",
            "Epoch 94/100\n",
            "35/35 - 0s - 2ms/step - attrition_output_accuracy: 0.8276 - department_output_accuracy: 0.6688 - loss: 0.8459\n",
            "Epoch 95/100\n",
            "35/35 - 0s - 2ms/step - attrition_output_accuracy: 0.8276 - department_output_accuracy: 0.6697 - loss: 0.8462\n",
            "Epoch 96/100\n",
            "35/35 - 0s - 2ms/step - attrition_output_accuracy: 0.8276 - department_output_accuracy: 0.6724 - loss: 0.8453\n",
            "Epoch 97/100\n",
            "35/35 - 0s - 2ms/step - attrition_output_accuracy: 0.8312 - department_output_accuracy: 0.6679 - loss: 0.8457\n",
            "Epoch 98/100\n",
            "35/35 - 0s - 2ms/step - attrition_output_accuracy: 0.8385 - department_output_accuracy: 0.6706 - loss: 0.8450\n",
            "Epoch 99/100\n",
            "35/35 - 0s - 2ms/step - attrition_output_accuracy: 0.8376 - department_output_accuracy: 0.6706 - loss: 0.8450\n",
            "Epoch 100/100\n",
            "35/35 - 0s - 2ms/step - attrition_output_accuracy: 0.8367 - department_output_accuracy: 0.6697 - loss: 0.8454\n"
          ]
        },
        {
          "data": {
            "text/plain": [
              "<keras.src.callbacks.history.History at 0x18da57e5e90>"
            ]
          },
          "execution_count": 286,
          "metadata": {},
          "output_type": "execute_result"
        }
      ],
      "source": [
        "# Train the model\n",
        "model.fit(X_train_scaled,\n",
        "          {'department_output': y_train_encoded, 'attrition_output': y_train_encoded2},\n",
        "          epochs=100,\n",
        "          shuffle=True,\n",
        "          verbose=2)"
      ]
    },
    {
      "cell_type": "code",
      "execution_count": 288,
      "metadata": {
        "colab": {
          "base_uri": "https://localhost:8080/"
        },
        "id": "VsMoaQlgGc3U",
        "outputId": "1bd4e601-e964-4abc-ad83-aeecf6b696be"
      },
      "outputs": [
        {
          "name": "stdout",
          "output_type": "stream",
          "text": [
            "12/12 - 0s - 3ms/step - attrition_output_accuracy: 0.8723 - department_output_accuracy: 0.6114 - loss: 0.8953\n"
          ]
        }
      ],
      "source": [
        "# Evaluate the model with the testing data\n",
        "attrition_accuracy, department_accuracy, total_loss = model.evaluate(\n",
        "    X_test_scaled,\n",
        "    {'department_output': y_test_encoded, 'attrition_output': y_test_encoded2},\n",
        "    verbose=2\n",
        ")"
      ]
    },
    {
      "cell_type": "code",
      "execution_count": 290,
      "metadata": {
        "colab": {
          "base_uri": "https://localhost:8080/"
        },
        "id": "ZlCtlHi0Vt54",
        "outputId": "bc21ef3e-80c2-4b38-9c29-79515bc23dec"
      },
      "outputs": [
        {
          "name": "stdout",
          "output_type": "stream",
          "text": [
            "Department Accuracy: 0.8722826242446899\n",
            "Attrition Accuracy: 0.8953461647033691\n"
          ]
        }
      ],
      "source": [
        "# Print the accuracy for both department and attrition\n",
        "print(f\"Department Accuracy: {department_accuracy}\")\n",
        "print(f\"Attrition Accuracy: {attrition_accuracy}\")"
      ]
    },
    {
      "cell_type": "markdown",
      "metadata": {
        "id": "eGSyfsZfWOQM"
      },
      "source": [
        "# Summary\n",
        "\n",
        "In the provided space below, briefly answer the following questions.\n",
        "\n",
        "1. Is accuracy the best metric to use on this data? Why or why not?\n",
        "\n",
        "2. What activation functions did you choose for your output layers, and why?\n",
        "\n",
        "3. Can you name a few ways that this model might be improved?"
      ]
    },
    {
      "cell_type": "markdown",
      "metadata": {
        "id": "pi9SLpFnWvbF"
      },
      "source": [
        "YOUR ANSWERS HERE\n",
        "\n",
        "1. \n",
        "2. \n",
        "3. "
      ]
    },
    {
      "cell_type": "markdown",
      "metadata": {},
      "source": []
    }
  ],
  "metadata": {
    "colab": {
      "provenance": []
    },
    "kernelspec": {
      "display_name": "Python 3",
      "language": "python",
      "name": "python3"
    },
    "language_info": {
      "codemirror_mode": {
        "name": "ipython",
        "version": 3
      },
      "file_extension": ".py",
      "mimetype": "text/x-python",
      "name": "python",
      "nbconvert_exporter": "python",
      "pygments_lexer": "ipython3",
      "version": "3.11.5"
    },
    "vscode": {
      "interpreter": {
        "hash": "31f2aee4e71d21fbe5cf8b01ff0e069b9275f58929596ceb00d14d90e3e16cd6"
      }
    }
  },
  "nbformat": 4,
  "nbformat_minor": 0
}
